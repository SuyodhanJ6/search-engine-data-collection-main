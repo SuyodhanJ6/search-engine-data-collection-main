{
 "cells": [
  {
   "cell_type": "code",
   "execution_count": 3,
   "metadata": {},
   "outputs": [],
   "source": [
    "import os \n",
    "import pymongo"
   ]
  },
  {
   "cell_type": "code",
   "execution_count": 8,
   "id": "f91061cd",
   "metadata": {},
   "outputs": [],
   "source": [
    "class Pras:\n",
    "    def __init__(self):\n",
    "        self.root = os.path.join(os.getcwd(), \"data\")\n",
    "        self.images = os.path.join(self.root, \"caltech-101\")\n",
    "    \n",
    "    def images(self):\n",
    "        os.system(f\"aws s3 sync { self.images } s3://reverse-image-pm-data/images/ \")\n",
    "    "
   ]
  },
  {
   "cell_type": "code",
   "execution_count": 9,
   "id": "c8c2d0ce",
   "metadata": {},
   "outputs": [
    {
     "ename": "TypeError",
     "evalue": "'str' object is not callable",
     "output_type": "error",
     "traceback": [
      "\u001b[0;31m---------------------------------------------------------------------------\u001b[0m",
      "\u001b[0;31mTypeError\u001b[0m                                 Traceback (most recent call last)",
      "Cell \u001b[0;32mIn[9], line 2\u001b[0m\n\u001b[1;32m      1\u001b[0m p \u001b[39m=\u001b[39m Pras()\n\u001b[0;32m----> 2\u001b[0m p\u001b[39m.\u001b[39;49mimages()\n",
      "\u001b[0;31mTypeError\u001b[0m: 'str' object is not callable"
     ]
    }
   ],
   "source": [
    "p = Pras()\n",
    "p.images()"
   ]
  },
  {
   "cell_type": "code",
   "execution_count": null,
   "id": "57aaeb59",
   "metadata": {},
   "outputs": [],
   "source": []
  }
 ],
 "metadata": {
  "kernelspec": {
   "display_name": "base",
   "language": "python",
   "name": "python3"
  },
  "language_info": {
   "codemirror_mode": {
    "name": "ipython",
    "version": 3
   },
   "file_extension": ".py",
   "mimetype": "text/x-python",
   "name": "python",
   "nbconvert_exporter": "python",
   "pygments_lexer": "ipython3",
   "version": "3.8.16"
  }
 },
 "nbformat": 4,
 "nbformat_minor": 5
}
